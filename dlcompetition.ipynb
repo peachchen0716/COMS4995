{
 "cells": [
  {
   "cell_type": "code",
   "execution_count": 199,
   "metadata": {},
   "outputs": [],
   "source": [
    "from datetime import datetime\n",
    "from gym.utils import seeding\n",
    "from gym import spaces\n",
    "from tqdm._tqdm_notebook import tqdm_notebook\n",
    "import gym\n",
    "import matplotlib.pyplot as plt\n",
    "import numpy as np\n",
    "import os\n",
    "import pandas as pd\n",
    "import time"
   ]
  },
  {
   "cell_type": "code",
   "execution_count": 31,
   "metadata": {},
   "outputs": [
    {
     "name": "stdout",
     "output_type": "stream",
     "text": [
      "Unnamed: 0\n",
      "01/01/2015\n",
      "891\n"
     ]
    }
   ],
   "source": [
    "# preprocess training data\n",
    "data_1 = pd.read_csv('./dlcompetition/train.csv')\n",
    "date_col_name = list(data_1)[0]\n",
    "print(date_col_name)\n",
    "sample_time = data_1[date_col_name][0]\n",
    "print(sample_time)\n",
    "data_1[\"date\"] = data_1[date_col_name].apply(lambda x : datetime.strptime(x, '%d/%m/%Y'))\n",
    "data_1_date = data_1[\"date\"]\n",
    "print(len(data_1_date))\n",
    "data_1 = data_1.drop([date_col_name], axis=1)"
   ]
  },
  {
   "cell_type": "code",
   "execution_count": 42,
   "metadata": {},
   "outputs": [
    {
     "name": "stdout",
     "output_type": "stream",
     "text": [
      "32\n"
     ]
    }
   ],
   "source": [
    "# test whether we could use extra data\n",
    "data_2 = pd.read_csv('./dlcompetition/A.csv')\n",
    "date_col_names = list(data_2)\n",
    "data_2_date = data_2[\"datadate\"].apply(lambda x : datetime.strptime(x, '%d/%m/%Y'))\n",
    "print(len(data_2_date))\n",
    "\n",
    "count = 0\n",
    "data_2_date_set = set(data_2_date)\n",
    "for i in data_1_date:\n",
    "    if not (i in data_2_date_set):\n",
    "        count += 1\n",
    "print(count)"
   ]
  },
  {
   "cell_type": "code",
   "execution_count": 42,
   "metadata": {},
   "outputs": [
    {
     "name": "stdout",
     "output_type": "stream",
     "text": [
      "full data size:  891\n",
      "train data shape:  (712, 507)\n",
      "test data shape:  (179, 507)\n"
     ]
    }
   ],
   "source": [
    "# save data after train test split\n",
    "data_size = data_1.shape[0]\n",
    "print(\"full data size: \", data_size)\n",
    "train_size = int(data_size * 0.8)\n",
    "train_data = data_1[:train_size]\n",
    "test_data = data_1[train_size:]\n",
    "print(\"train data shape: \", train_data.shape)\n",
    "print(\"test data shape: \", test_data.shape)\n",
    "\n",
    "train_data.to_pickle(\"./train_data.pkl\")\n",
    "test_data.to_pickle(\"./test_data.pkl\")"
   ]
  },
  {
   "cell_type": "code",
   "execution_count": 200,
   "metadata": {},
   "outputs": [],
   "source": [
    "################\n",
    "#  Start here  #\n",
    "################\n",
    "\n",
    "from sklearn.metrics import mean_squared_error\n",
    "from sklearn.preprocessing import MinMaxScaler\n",
    "from tensorflow.keras.models import Sequential, load_model\n",
    "from tensorflow.keras.layers import Dense, Dropout\n",
    "from tensorflow.keras.layers import LSTM\n",
    "from tensorflow.keras.callbacks import ModelCheckpoint, EarlyStopping, ReduceLROnPlateau, CSVLogger\n",
    "from tensorflow.keras import optimizers\n",
    "import logging\n",
    "import pickle\n",
    "\n",
    "train_data = pd.read_pickle(\"./train_data.pkl\")\n",
    "test_data = pd.read_pickle(\"./test_data.pkl\")"
   ]
  },
  {
   "cell_type": "code",
   "execution_count": 234,
   "metadata": {},
   "outputs": [],
   "source": [
    "params = {\n",
    "    \"batch_size\": 20,  # 20<16<10, 25 was a bust\n",
    "    \"epochs\": 200,\n",
    "    \"lr\": 0.0010000,\n",
    "    \"time_steps\": 30\n",
    "}\n",
    "\n",
    "iter_changes = \"dropout_layers_0.5_0.5\"\n",
    "\n",
    "OUTPUT_PATH = \"./outputs/lstm_best_1-12-19_16AM/\"+iter_changes\n",
    "\n",
    "TIME_STEPS = params[\"time_steps\"]\n",
    "BATCH_SIZE = params[\"batch_size\"]\n",
    "stime = time.time()\n",
    "\n",
    "def print_time(text, stime):\n",
    "    seconds = (time.time()-stime)\n",
    "    print(text, seconds//60,\"minutes : \",np.round(seconds%60),\"seconds\")"
   ]
  },
  {
   "cell_type": "code",
   "execution_count": 235,
   "metadata": {},
   "outputs": [],
   "source": [
    "def build_timeseries(mat, y_col_index):\n",
    "    # y_col_index is the index of column that would act as output column\n",
    "    # total number of time-series samples would be len(mat) - TIME_STEPS\n",
    "    dim_0 = mat.shape[0] - TIME_STEPS\n",
    "    \n",
    "    if len(mat.shape) == 1:\n",
    "        dim_1 = 1\n",
    "        x = np.zeros((dim_0, TIME_STEPS))\n",
    "    else:\n",
    "        dim_1 = mat.shape[1]\n",
    "        x = np.zeros((dim_0, TIME_STEPS, dim_1))\n",
    "\n",
    "    y = np.zeros((dim_0,))\n",
    "    for i in tqdm_notebook(range(dim_0)):\n",
    "        x[i] = mat[i:TIME_STEPS+i]\n",
    "        if dim_1 == 1:\n",
    "            y[i] = mat[TIME_STEPS+i]\n",
    "        else:\n",
    "            y[i] = mat[TIME_STEPS+i, y_col_index]\n",
    "    print(\"length of time-series i/o\",x.shape,y.shape)\n",
    "    return x, y\n",
    "\n",
    "def build_timeseries_mat(mat):\n",
    "    # total number of time-series samples would be len(mat) - TIME_STEPS\n",
    "    dim_0 = mat.shape[0] - TIME_STEPS\n",
    "    \n",
    "    dim_1 = mat.shape[1]\n",
    "    x = np.zeros((dim_0, TIME_STEPS, dim_1))\n",
    "\n",
    "    y = np.zeros((dim_0, dim_1))\n",
    "    for i in tqdm_notebook(range(dim_0)):\n",
    "        x[i] = mat[i:TIME_STEPS+i]\n",
    "        y[i] = mat[TIME_STEPS+i]\n",
    "    print(\"length of time-series i/o\",x.shape,y.shape)\n",
    "    return x, y\n",
    "\n",
    "def trim_dataset(mat, batch_size):\n",
    "    \"\"\"\n",
    "    trims dataset to a size that's divisible by BATCH_SIZE\n",
    "    \"\"\"\n",
    "    no_of_rows_drop = mat.shape[0]%batch_size\n",
    "    if(no_of_rows_drop > 0):\n",
    "        return mat[:-no_of_rows_drop]\n",
    "    else:\n",
    "        return mat"
   ]
  },
  {
   "cell_type": "code",
   "execution_count": 236,
   "metadata": {},
   "outputs": [
    {
     "name": "stdout",
     "output_type": "stream",
     "text": [
      "checking if any null values are present\n",
      " (array([ 32,  33,  50, 122, 126, 147, 154, 174, 194, 195, 200, 231, 246,\n",
      "       270, 292, 297, 335, 353, 367, 369, 390, 392, 395, 441, 452, 486,\n",
      "       490, 495], dtype=int64),)\n",
      "checking if any null values are present\n",
      " (array([], dtype=int64),)\n"
     ]
    },
    {
     "data": {
      "application/vnd.jupyter.widget-view+json": {
       "model_id": "f95016c061944b2ab5a49f6abca4f1e6",
       "version_major": 2,
       "version_minor": 0
      },
      "text/plain": [
       "HBox(children=(IntProgress(value=0, max=682), HTML(value='')))"
      ]
     },
     "metadata": {},
     "output_type": "display_data"
    },
    {
     "name": "stdout",
     "output_type": "stream",
     "text": [
      "\n",
      "length of time-series i/o (682, 30, 505) (682, 505)\n"
     ]
    },
    {
     "data": {
      "application/vnd.jupyter.widget-view+json": {
       "model_id": "0515832834cc4787ac0722ff01de3adf",
       "version_major": 2,
       "version_minor": 0
      },
      "text/plain": [
       "HBox(children=(IntProgress(value=0, max=149), HTML(value='')))"
      ]
     },
     "metadata": {},
     "output_type": "display_data"
    },
    {
     "name": "stdout",
     "output_type": "stream",
     "text": [
      "\n",
      "length of time-series i/o (149, 30, 505) (149, 505)\n"
     ]
    }
   ],
   "source": [
    "# One model for all stocks\n",
    "x_train = train_data.drop([\"Cash\", \"date\"], axis=1)\n",
    "x_test = test_data.drop([\"Cash\", \"date\"], axis=1)\n",
    "\n",
    "# check nan in training data\n",
    "na_cols = x_train.isna().sum().to_numpy().nonzero()\n",
    "na_sums = x_train.isna().sum()\n",
    "print(\"checking if any null values are present\\n\", na_cols)\n",
    "\n",
    "zero_cols = []\n",
    "interpolate_cols = []\n",
    "for i in na_cols[0]:\n",
    "    col_name = x_train.columns[i]\n",
    "    if na_sums[i] == x_train.shape[0]:\n",
    "#         print(col_name, na_sums[i], x_test.isna().sum()[i])\n",
    "        zero_cols.append(i)\n",
    "    else:\n",
    "        interpolate_cols.append(i)\n",
    "\n",
    "# fill zero into columns with nan entries more than 1/4 of the total entries\n",
    "for col in zero_cols:\n",
    "    col_name = x_train.columns[col]\n",
    "    x_train[col_name].values[:] = 0\n",
    "    x_test[col_name].values[:] = 0\n",
    "\n",
    "# fill the rest nan with column mean\n",
    "for col in interpolate_cols:\n",
    "    col_name = x_train.columns[col]\n",
    "    x_train[col_name].values[:] = x_train[col_name].fillna(x_train[col_name].mean())\n",
    "    x_test[col_name].values[:] = x_test[col_name].fillna(x_train[col_name].mean())\n",
    "\n",
    "print(\"checking if any null values are present\\n\", x_train.isna().sum().to_numpy().nonzero())\n",
    "\n",
    "# normalize\n",
    "min_max_scaler = MinMaxScaler()\n",
    "x_train = min_max_scaler.fit_transform(x_train)\n",
    "x_test = min_max_scaler.transform(x_test)\n",
    "\n",
    "x_t, y_t = build_timeseries_mat(x_train)\n",
    "x_t = trim_dataset(x_t, BATCH_SIZE)\n",
    "y_t = trim_dataset(y_t, BATCH_SIZE)\n",
    "\n",
    "x_temp, y_temp = build_timeseries_mat(x_test)\n",
    "x_val, x_test = np.split(trim_dataset(x_temp, BATCH_SIZE),2)\n",
    "y_val, y_test = np.split(trim_dataset(y_temp, BATCH_SIZE),2)"
   ]
  },
  {
   "cell_type": "code",
   "execution_count": 207,
   "metadata": {},
   "outputs": [],
   "source": [
    "# One model per individual stock\n",
    "# x_train = train_data['AAL ']\n",
    "# x_t, y_t = build_timeseries(x_train, 0)\n",
    "# x_t = trim_dataset(x_t, BATCH_SIZE)\n",
    "# y_t = trim_dataset(y_t, BATCH_SIZE)\n",
    "\n",
    "# x_t = np.reshape(x_t, (x_t.shape[0], x_t.shape[1], 1))\n",
    "\n",
    "# x_test = test_data['A ']\n",
    "# x_test = x_test.reset_index(drop=True)\n",
    "# x_temp, y_temp = build_timeseries(x_test, 0)\n",
    "# x_val, x_test = np.split(trim_dataset(x_temp, BATCH_SIZE),2)\n",
    "# y_val, y_test = np.split(trim_dataset(y_temp, BATCH_SIZE),2)"
   ]
  },
  {
   "cell_type": "code",
   "execution_count": 237,
   "metadata": {},
   "outputs": [],
   "source": [
    "x_val_t = trim_dataset(x_val, BATCH_SIZE)\n",
    "# x_val_t = np.reshape(x_val_t, (x_val_t.shape[0], x_val_t.shape[1], 1))\n",
    "val_data_t = (x_val_t, trim_dataset(y_val, BATCH_SIZE))"
   ]
  },
  {
   "cell_type": "code",
   "execution_count": 218,
   "metadata": {},
   "outputs": [],
   "source": [
    "def create_model():\n",
    "    lstm_model = Sequential()\n",
    "    \n",
    "    features = 1 if len(x_t.shape) == 2 else x_t.shape[2]\n",
    "#     print(\"data_dim: \", features)\n",
    "\n",
    "    # (batch_size, timesteps, data_dim)\n",
    "    lstm_model.add(LSTM(128, batch_input_shape=(BATCH_SIZE, TIME_STEPS, features),\n",
    "                        dropout=0.0, recurrent_dropout=0.0, stateful=True, return_sequences=False,\n",
    "                        kernel_initializer='random_uniform'))\n",
    "    lstm_model.add(Dropout(0.5))\n",
    "#     lstm_model.add(LSTM(64, dropout=0.0))\n",
    "#     lstm_model.add(Dropout(0.5))\n",
    "    lstm_model.add(Dense(64,activation='relu'))\n",
    "    lstm_model.add(Dropout(0.5))\n",
    "    lstm_model.add(Dense(features,activation='sigmoid'))\n",
    "    optimizer = optimizers.RMSprop(lr=params[\"lr\"])\n",
    "    # optimizer = optimizers.SGD(lr=0.000001, decay=1e-6, momentum=0.9, nesterov=True)\n",
    "    lstm_model.compile(loss='mean_squared_error', optimizer=optimizer)\n",
    "    print(lstm_model.summary())\n",
    "    return lstm_model"
   ]
  },
  {
   "cell_type": "code",
   "execution_count": 238,
   "metadata": {
    "scrolled": true
   },
   "outputs": [
    {
     "name": "stdout",
     "output_type": "stream",
     "text": [
      "_________________________________________________________________\n",
      "Layer (type)                 Output Shape              Param #   \n",
      "=================================================================\n",
      "lstm_42 (LSTM)               (20, 128)                 324608    \n",
      "_________________________________________________________________\n",
      "dropout_45 (Dropout)         (20, 128)                 0         \n",
      "_________________________________________________________________\n",
      "dense_54 (Dense)             (20, 64)                  8256      \n",
      "_________________________________________________________________\n",
      "dropout_46 (Dropout)         (20, 64)                  0         \n",
      "_________________________________________________________________\n",
      "dense_55 (Dense)             (20, 505)                 32825     \n",
      "=================================================================\n",
      "Total params: 365,689\n",
      "Trainable params: 365,689\n",
      "Non-trainable params: 0\n",
      "_________________________________________________________________\n",
      "None\n",
      "Train on 680 samples, validate on 60 samples\n",
      "Epoch 1/200\n",
      "\n",
      "Epoch 00001: val_loss improved from inf to 0.26188, saving model to ./outputs/lstm_best_1-12-19_16AM/dropout_layers_0.5_0.5\\best_model.h5\n",
      " - 16s - loss: 0.0595 - val_loss: 0.2619\n",
      "Epoch 2/200\n",
      "\n",
      "Epoch 00002: val_loss improved from 0.26188 to 0.18700, saving model to ./outputs/lstm_best_1-12-19_16AM/dropout_layers_0.5_0.5\\best_model.h5\n",
      " - 6s - loss: 0.0429 - val_loss: 0.1870\n",
      "Epoch 3/200\n",
      "\n",
      "Epoch 00003: val_loss improved from 0.18700 to 0.15093, saving model to ./outputs/lstm_best_1-12-19_16AM/dropout_layers_0.5_0.5\\best_model.h5\n",
      " - 7s - loss: 0.0346 - val_loss: 0.1509\n",
      "Epoch 4/200\n",
      "\n",
      "Epoch 00004: val_loss improved from 0.15093 to 0.13473, saving model to ./outputs/lstm_best_1-12-19_16AM/dropout_layers_0.5_0.5\\best_model.h5\n",
      " - 8s - loss: 0.0295 - val_loss: 0.1347\n",
      "Epoch 5/200\n",
      "\n",
      "Epoch 00005: val_loss improved from 0.13473 to 0.12747, saving model to ./outputs/lstm_best_1-12-19_16AM/dropout_layers_0.5_0.5\\best_model.h5\n",
      " - 7s - loss: 0.0266 - val_loss: 0.1275\n",
      "Epoch 6/200\n",
      "\n",
      "Epoch 00006: val_loss improved from 0.12747 to 0.12113, saving model to ./outputs/lstm_best_1-12-19_16AM/dropout_layers_0.5_0.5\\best_model.h5\n",
      " - 6s - loss: 0.0237 - val_loss: 0.1211\n",
      "Epoch 7/200\n",
      "\n",
      "Epoch 00007: val_loss improved from 0.12113 to 0.11893, saving model to ./outputs/lstm_best_1-12-19_16AM/dropout_layers_0.5_0.5\\best_model.h5\n",
      " - 6s - loss: 0.0225 - val_loss: 0.1189\n",
      "Epoch 8/200\n",
      "\n",
      "Epoch 00008: val_loss improved from 0.11893 to 0.11231, saving model to ./outputs/lstm_best_1-12-19_16AM/dropout_layers_0.5_0.5\\best_model.h5\n",
      " - 7s - loss: 0.0208 - val_loss: 0.1123\n",
      "Epoch 9/200\n",
      "\n",
      "Epoch 00009: val_loss improved from 0.11231 to 0.11044, saving model to ./outputs/lstm_best_1-12-19_16AM/dropout_layers_0.5_0.5\\best_model.h5\n",
      " - 6s - loss: 0.0196 - val_loss: 0.1104\n",
      "Epoch 10/200\n",
      "\n",
      "Epoch 00010: val_loss did not improve from 0.11044\n",
      " - 6s - loss: 0.0190 - val_loss: 0.1134\n",
      "Epoch 11/200\n",
      "\n",
      "Epoch 00011: val_loss improved from 0.11044 to 0.10910, saving model to ./outputs/lstm_best_1-12-19_16AM/dropout_layers_0.5_0.5\\best_model.h5\n",
      " - 6s - loss: 0.0183 - val_loss: 0.1091\n",
      "Epoch 12/200\n",
      "\n",
      "Epoch 00012: val_loss did not improve from 0.10910\n",
      " - 6s - loss: 0.0176 - val_loss: 0.1095\n",
      "Epoch 13/200\n",
      "\n",
      "Epoch 00013: val_loss did not improve from 0.10910\n",
      " - 7s - loss: 0.0170 - val_loss: 0.1108\n",
      "Epoch 14/200\n",
      "\n",
      "Epoch 00014: val_loss did not improve from 0.10910\n",
      " - 7s - loss: 0.0161 - val_loss: 0.1107\n",
      "Epoch 15/200\n",
      "\n",
      "Epoch 00015: val_loss did not improve from 0.10910\n",
      " - 6s - loss: 0.0161 - val_loss: 0.1092\n",
      "Epoch 16/200\n",
      "\n",
      "Epoch 00016: val_loss improved from 0.10910 to 0.10662, saving model to ./outputs/lstm_best_1-12-19_16AM/dropout_layers_0.5_0.5\\best_model.h5\n",
      " - 6s - loss: 0.0157 - val_loss: 0.1066\n",
      "Epoch 17/200\n",
      "\n",
      "Epoch 00017: val_loss did not improve from 0.10662\n",
      " - 6s - loss: 0.0156 - val_loss: 0.1067\n",
      "Epoch 18/200\n",
      "\n",
      "Epoch 00018: val_loss improved from 0.10662 to 0.10490, saving model to ./outputs/lstm_best_1-12-19_16AM/dropout_layers_0.5_0.5\\best_model.h5\n",
      " - 6s - loss: 0.0146 - val_loss: 0.1049\n",
      "Epoch 19/200\n",
      "\n",
      "Epoch 00019: val_loss improved from 0.10490 to 0.10449, saving model to ./outputs/lstm_best_1-12-19_16AM/dropout_layers_0.5_0.5\\best_model.h5\n",
      " - 7s - loss: 0.0147 - val_loss: 0.1045\n",
      "Epoch 20/200\n",
      "\n",
      "Epoch 00020: val_loss improved from 0.10449 to 0.10421, saving model to ./outputs/lstm_best_1-12-19_16AM/dropout_layers_0.5_0.5\\best_model.h5\n",
      " - 7s - loss: 0.0147 - val_loss: 0.1042\n",
      "Epoch 21/200\n",
      "\n",
      "Epoch 00021: val_loss did not improve from 0.10421\n",
      " - 6s - loss: 0.0139 - val_loss: 0.1053\n",
      "Epoch 22/200\n",
      "\n",
      "Epoch 00022: val_loss did not improve from 0.10421\n",
      " - 6s - loss: 0.0143 - val_loss: 0.1053\n",
      "Epoch 23/200\n",
      "\n",
      "Epoch 00023: val_loss did not improve from 0.10421\n",
      " - 6s - loss: 0.0134 - val_loss: 0.1051\n",
      "Epoch 24/200\n",
      "\n",
      "Epoch 00024: val_loss did not improve from 0.10421\n",
      " - 6s - loss: 0.0132 - val_loss: 0.1049\n",
      "Epoch 25/200\n",
      "\n",
      "Epoch 00025: val_loss did not improve from 0.10421\n",
      " - 7s - loss: 0.0139 - val_loss: 0.1070\n",
      "Epoch 26/200\n",
      "\n",
      "Epoch 00026: val_loss did not improve from 0.10421\n",
      " - 7s - loss: 0.0133 - val_loss: 0.1053\n",
      "Epoch 27/200\n",
      "\n",
      "Epoch 00027: val_loss did not improve from 0.10421\n",
      " - 8s - loss: 0.0134 - val_loss: 0.1056\n",
      "Epoch 28/200\n",
      "\n",
      "Epoch 00028: val_loss did not improve from 0.10421\n",
      " - 7s - loss: 0.0129 - val_loss: 0.1063\n",
      "Epoch 29/200\n",
      "\n",
      "Epoch 00029: val_loss did not improve from 0.10421\n",
      " - 6s - loss: 0.0135 - val_loss: 0.1076\n",
      "Epoch 30/200\n",
      "\n",
      "Epoch 00030: val_loss did not improve from 0.10421\n",
      " - 7s - loss: 0.0128 - val_loss: 0.1087\n",
      "Epoch 31/200\n",
      "\n",
      "Epoch 00031: val_loss did not improve from 0.10421\n",
      " - 6s - loss: 0.0128 - val_loss: 0.1096\n",
      "Epoch 32/200\n",
      "\n",
      "Epoch 00032: val_loss did not improve from 0.10421\n",
      " - 7s - loss: 0.0124 - val_loss: 0.1053\n",
      "Epoch 33/200\n",
      "\n",
      "Epoch 00033: val_loss did not improve from 0.10421\n",
      " - 7s - loss: 0.0124 - val_loss: 0.1076\n",
      "Epoch 34/200\n",
      "\n",
      "Epoch 00034: val_loss did not improve from 0.10421\n",
      " - 6s - loss: 0.0124 - val_loss: 0.1113\n",
      "Epoch 35/200\n",
      "\n",
      "Epoch 00035: val_loss did not improve from 0.10421\n",
      " - 8s - loss: 0.0122 - val_loss: 0.1103\n",
      "Epoch 36/200\n",
      "\n",
      "Epoch 00036: val_loss did not improve from 0.10421\n",
      " - 7s - loss: 0.0119 - val_loss: 0.1087\n",
      "Epoch 37/200\n",
      "\n",
      "Epoch 00037: val_loss did not improve from 0.10421\n",
      " - 7s - loss: 0.0115 - val_loss: 0.1064\n",
      "Epoch 38/200\n",
      "\n",
      "Epoch 00038: val_loss did not improve from 0.10421\n",
      " - 8s - loss: 0.0120 - val_loss: 0.1086\n",
      "Epoch 39/200\n",
      "\n",
      "Epoch 00039: val_loss did not improve from 0.10421\n",
      " - 7s - loss: 0.0121 - val_loss: 0.1077\n",
      "Epoch 40/200\n",
      "\n",
      "Epoch 00040: val_loss did not improve from 0.10421\n",
      " - 6s - loss: 0.0118 - val_loss: 0.1082\n",
      "Epoch 41/200\n",
      "\n",
      "Epoch 00041: val_loss did not improve from 0.10421\n",
      " - 6s - loss: 0.0118 - val_loss: 0.1099\n",
      "Epoch 42/200\n",
      "\n",
      "Epoch 00042: val_loss did not improve from 0.10421\n",
      " - 6s - loss: 0.0117 - val_loss: 0.1107\n",
      "Epoch 43/200\n",
      "\n",
      "Epoch 00043: val_loss did not improve from 0.10421\n",
      " - 7s - loss: 0.0114 - val_loss: 0.1071\n",
      "Epoch 44/200\n",
      "\n",
      "Epoch 00044: val_loss did not improve from 0.10421\n",
      " - 7s - loss: 0.0115 - val_loss: 0.1090\n",
      "Epoch 45/200\n",
      "\n",
      "Epoch 00045: val_loss did not improve from 0.10421\n",
      " - 7s - loss: 0.0112 - val_loss: 0.1107\n",
      "Epoch 46/200\n",
      "\n",
      "Epoch 00046: val_loss did not improve from 0.10421\n",
      " - 6s - loss: 0.0113 - val_loss: 0.1116\n",
      "Epoch 47/200\n",
      "\n",
      "Epoch 00047: val_loss did not improve from 0.10421\n",
      " - 6s - loss: 0.0111 - val_loss: 0.1091\n",
      "Epoch 48/200\n",
      "\n",
      "Epoch 00048: val_loss did not improve from 0.10421\n",
      " - 7s - loss: 0.0110 - val_loss: 0.1089\n",
      "Epoch 49/200\n",
      "\n",
      "Epoch 00049: val_loss did not improve from 0.10421\n",
      " - 7s - loss: 0.0115 - val_loss: 0.1094\n",
      "Epoch 50/200\n",
      "\n",
      "Epoch 00050: val_loss did not improve from 0.10421\n",
      " - 6s - loss: 0.0113 - val_loss: 0.1128\n",
      "Epoch 51/200\n",
      "\n",
      "Epoch 00051: val_loss did not improve from 0.10421\n",
      " - 6s - loss: 0.0110 - val_loss: 0.1079\n",
      "Epoch 52/200\n",
      "\n",
      "Epoch 00052: val_loss did not improve from 0.10421\n",
      " - 6s - loss: 0.0109 - val_loss: 0.1071\n",
      "Epoch 53/200\n",
      "\n",
      "Epoch 00053: val_loss did not improve from 0.10421\n",
      " - 6s - loss: 0.0110 - val_loss: 0.1104\n",
      "Epoch 54/200\n",
      "\n",
      "Epoch 00054: val_loss did not improve from 0.10421\n",
      " - 6s - loss: 0.0106 - val_loss: 0.1097\n",
      "Epoch 55/200\n",
      "\n",
      "Epoch 00055: val_loss did not improve from 0.10421\n",
      " - 6s - loss: 0.0108 - val_loss: 0.1102\n",
      "Epoch 56/200\n",
      "\n",
      "Epoch 00056: val_loss did not improve from 0.10421\n",
      " - 6s - loss: 0.0108 - val_loss: 0.1101\n",
      "Epoch 57/200\n",
      "\n",
      "Epoch 00057: val_loss did not improve from 0.10421\n",
      " - 6s - loss: 0.0105 - val_loss: 0.1099\n",
      "Epoch 58/200\n",
      "\n",
      "Epoch 00058: val_loss did not improve from 0.10421\n",
      " - 6s - loss: 0.0107 - val_loss: 0.1176\n",
      "Epoch 59/200\n",
      "\n",
      "Epoch 00059: val_loss did not improve from 0.10421\n",
      " - 6s - loss: 0.0104 - val_loss: 0.1113\n",
      "Epoch 60/200\n",
      "\n",
      "Epoch 00060: val_loss did not improve from 0.10421\n",
      " - 6s - loss: 0.0106 - val_loss: 0.1096\n",
      "Epoch 00060: early stopping\n"
     ]
    }
   ],
   "source": [
    "model = None\n",
    "\n",
    "is_update_model = True\n",
    "if model is None or is_update_model:\n",
    "    model = create_model()\n",
    "    \n",
    "    es = EarlyStopping(monitor='val_loss', mode='min', verbose=1,\n",
    "                       patience=40, min_delta=0.0001)\n",
    "    \n",
    "    mcp = ModelCheckpoint(os.path.join(OUTPUT_PATH,\n",
    "                          \"best_model.h5\"), monitor='val_loss', verbose=1,\n",
    "                          save_best_only=True, save_weights_only=False, mode='min', period=1)\n",
    "\n",
    "    # Not used here. But leaving it here as a reminder for future\n",
    "#     r_lr_plat = ReduceLROnPlateau(monitor='val_loss', factor=0.1, patience=30, \n",
    "#                                   verbose=0, mode='auto', min_delta=0.0001, cooldown=0, min_lr=0)\n",
    "    csv_path = os.path.join(OUTPUT_PATH, 'training_log_' + time.ctime().replace(\" \",\"_\").replace(\":\", \"_\") + '.log')\n",
    "    csv_logger = CSVLogger(csv_path, append=True)\n",
    "    \n",
    "    callbacks = [es, mcp, csv_logger]\n",
    "    history = model.fit(x_t, y_t, epochs=params[\"epochs\"], verbose=2, batch_size=BATCH_SIZE,\n",
    "                        shuffle=False, validation_data=val_data_t, callbacks=callbacks)\n",
    "    "
   ]
  },
  {
   "cell_type": "code",
   "execution_count": 223,
   "metadata": {
    "scrolled": true
   },
   "outputs": [
    {
     "name": "stdout",
     "output_type": "stream",
     "text": [
      "Error is 0.17233163088882267 (60, 505) (60, 505)\n"
     ]
    }
   ],
   "source": [
    "x_test_t = trim_dataset(x_test, BATCH_SIZE)\n",
    "# x_test_t = np.reshape(x_test_t, (x_test_t.shape[0], x_test_t.shape[1], 1))\n",
    "\n",
    "y_pred = model.predict(x_test_t, batch_size=BATCH_SIZE)\n",
    "# y_pred = y_pred.flatten()\n",
    "\n",
    "y_test_t = trim_dataset(y_test, BATCH_SIZE)\n",
    "error = mean_squared_error(y_test_t, y_pred)\n",
    "print(\"Error is\", error, y_pred.shape, y_test_t.shape)\n",
    "# print(y_pred[15])\n",
    "# print(y_test_t[15])"
   ]
  },
  {
   "cell_type": "code",
   "execution_count": 224,
   "metadata": {},
   "outputs": [
    {
     "name": "stdout",
     "output_type": "stream",
     "text": [
      "[152.1991   146.99384  110.179405 158.42355  132.24983  125.29541\n",
      " 153.09755  149.0763   148.46529  155.9642  ]\n",
      "[167.15121341 157.83698918 109.38879788 176.82       211.642\n",
      " 131.3922648  230.54065243 199.87935065 192.50713968 210.11026588]\n"
     ]
    }
   ],
   "source": [
    "# convert the predicted value to range of real data\n",
    "y_pred_org = (y_pred * min_max_scaler.data_range_[3]) + min_max_scaler.data_min_[3]\n",
    "# min_max_scaler.inverse_transform(y_pred)\n",
    "y_test_t_org = (y_test_t * min_max_scaler.data_range_[3]) + min_max_scaler.data_min_[3]\n",
    "# min_max_scaler.inverse_transform(y_test_t)\n",
    "print(y_pred_org[15][:10])\n",
    "print(y_test_t_org[15][:10])"
   ]
  },
  {
   "cell_type": "code",
   "execution_count": 226,
   "metadata": {},
   "outputs": [
    {
     "data": {
      "image/png": "[encoded data removed]",
      "text/plain": [
       "<Figure size 432x288 with 1 Axes>"
      ]
     },
     "metadata": {
      "needs_background": "light"
     },
     "output_type": "display_data"
    }
   ],
   "source": [
    "plt.figure()\n",
    "plt.plot(history.history['loss'])\n",
    "plt.plot(history.history['val_loss'])\n",
    "plt.title('Model loss')\n",
    "plt.ylabel('Loss')\n",
    "plt.xlabel('Epoch')\n",
    "plt.legend(['Train', 'Test'], loc='upper left')\n",
    "# plt.show()\n",
    "plt.savefig(os.path.join(OUTPUT_PATH, 'train_vis_BS_'+str(BATCH_SIZE)+\"_\"+time.ctime().replace(\" \",\"_\").replace(\":\", \"_\")+'.png'))"
   ]
  },
  {
   "cell_type": "code",
   "execution_count": 225,
   "metadata": {},
   "outputs": [
    {
     "name": "stdout",
     "output_type": "stream",
     "text": [
      "<tensorflow.python.keras.engine.sequential.Sequential object at 0x00000085F62B9CF8>\n",
      "Error is 0.1705119168039326 (60, 505) (60, 505)\n",
      "[152.91003 147.37125 110.59215 158.59422 131.7466  126.18728 153.3399\n",
      " 149.10004 149.26688 156.48886]\n",
      "[167.15121341 157.83698918 109.38879788 176.82       211.642\n",
      " 131.3922648  230.54065243 199.87935065 192.50713968 210.11026588]\n"
     ]
    }
   ],
   "source": [
    "# load the saved best model from above\n",
    "saved_model = load_model(os.path.join(OUTPUT_PATH, 'best_model.h5')) # , \"lstm_best_7-3-19_12AM\",\n",
    "print(saved_model)\n",
    "\n",
    "y_pred = saved_model.predict(trim_dataset(x_test_t, BATCH_SIZE), batch_size=BATCH_SIZE)\n",
    "# y_pred = y_pred.flatten()\n",
    "y_test_t = trim_dataset(y_test_t, BATCH_SIZE)\n",
    "error = mean_squared_error(y_test_t, y_pred)\n",
    "print(\"Error is\", error, y_pred.shape, y_test_t.shape)\n",
    "# print(y_pred[0:15])\n",
    "# print(y_test_t[0:15])\n",
    "y_pred_org = (y_pred * min_max_scaler.data_range_[3]) + min_max_scaler.data_min_[3] # min_max_scaler.inverse_transform(y_pred)\n",
    "y_test_t_org = (y_test_t * min_max_scaler.data_range_[3]) + min_max_scaler.data_min_[3] # min_max_scaler.inverse_transform(y_test_t)\n",
    "print(y_pred_org[15][:10])\n",
    "print(y_test_t_org[15][:10])"
   ]
  },
  {
   "cell_type": "code",
   "execution_count": 158,
   "metadata": {
    "scrolled": true
   },
   "outputs": [
    {
     "name": "stdout",
     "output_type": "stream",
     "text": [
      "program completed  107.0 minutes :  46.0 seconds\n"
     ]
    },
    {
     "data": {
      "image/png": "[encoded data removed]",
      "text/plain": [
       "<Figure size 640x480 with 1 Axes>"
      ]
     },
     "metadata": {},
     "output_type": "display_data"
    }
   ],
   "source": [
    "# Visualize the prediction\n",
    "plt.figure(figsize=(8, 6), dpi=80, facecolor='w', edgecolor='k')\n",
    "plt.plot(y_pred_org[0])\n",
    "plt.plot(y_test_t_org[0])\n",
    "plt.title('Prediction vs Real Stock Price')\n",
    "plt.ylabel('Price')\n",
    "plt.xlabel('Days')\n",
    "plt.legend(['Prediction', 'Real'], loc='upper left')\n",
    "# plt.show()\n",
    "plt.savefig(os.path.join(OUTPUT_PATH, 'pred_vs_real_BS'+str(BATCH_SIZE)+\"_\"+time.ctime().replace(\" \",\"_\").replace(\":\", \"_\")+'.png'))\n",
    "print_time(\"program completed \", stime)"
   ]
  },
  {
   "cell_type": "code",
   "execution_count": null,
   "metadata": {},
   "outputs": [],
   "source": []
  }
 ],
 "metadata": {
  "kernelspec": {
   "display_name": "Python 3",
   "language": "python",
   "name": "python3"
  },
  "language_info": {
   "codemirror_mode": {
    "name": "ipython",
    "version": 3
   },
   "file_extension": ".py",
   "mimetype": "text/x-python",
   "name": "python",
   "nbconvert_exporter": "python",
   "pygments_lexer": "ipython3",
   "version": "3.6.9"
  }
 },
 "nbformat": 4,
 "nbformat_minor": 2
}
